# Import dependencies
import pandas as pd
import numpy as np
pd.set_option('max_colwidth', 400)





# Read the data into a Pandas DataFrame
crowdfunding_info_df = pd.read_excel('Resources/crowdfunding.xlsx')
crowdfunding_info_df.head()


# Get a brief summary of the crowdfunding_info DataFrame.
crowdfunding_info_df.info()





# Get the crowdfunding_info_df columns.
crowdfunding_info_df.columns


# Assign the category and subcategory values to category and subcategory columns.
crowdfunding_info_df[['category', 'subcategory']] = crowdfunding_info_df['category & sub-category'].str.split('/', expand=True)
crowdfunding_info_df.head()


# Get the unique categories and subcategories in separate lists.
categories = crowdfunding_info_df['category'].unique().astype(list)
subcategories = crowdfunding_info_df['subcategory'].unique().astype(list)


print(categories)
print(subcategories)


# Get the number of distinct values in the categories and subcategories lists.
print(len(categories))
print(len(subcategories))


# Create numpy arrays from 1-9 for the categories and 1-24 for the subcategories.
category_ids = np.arange(1, 10)
subcategory_ids = np.arange(1, 25)

print(category_ids)
print(subcategory_ids)


# Use a list comprehension to add "cat" to each category_id. 
cat_ids = ['cat' + str(id) for id in category_ids]
# Use a list comprehension to add "subcat" to each subcategory_id.    
scat_ids = ['subcat' +str(id) for id in subcategory_ids]
    
print(cat_ids)
print(scat_ids)


# Create a category DataFrame with the category_id array as the category_id and categories list as the category name.
category_df = pd.DataFrame(cat_ids, categories)

# Create a category DataFrame with the subcategory_id array as the subcategory_id and subcategories list as the subcategory name. 
subcategory_df = pd.DataFrame(scat_ids, subcategories)

category_df.head()


category_df_1 = category_df[0]
category_df_1 = category_df_1.reset_index()
category_df_1 = category_df_1.rename(columns={'index': 'category',
                                              0: 'cat_id'})
category_df_1



subcategory_df_1 = subcategory_df[0]
subcategory_df_1 = subcategory_df_1.reset_index()
subcategory_df_1 = subcategory_df_1.rename(columns={'index': 'subcategory',
                                                    0: 'subcat_id'})
subcategory_df_1


# Export categories_df and subcategories_df as CSV files.
category_df_1.to_csv("Resources/category.csv", index=False)

subcategory_df_1.to_csv("Resources/subcategory.csv", index=False)





# Create a copy of the crowdfunding_info_df DataFrame name campaign_df. 
campaign_df = crowdfunding_info_df.copy()
campaign_df.head()


# Rename the blurb, launched_at, and deadline columns.
campaign_df = campaign_df.rename(columns={'blurb': 'description',
                                          'launched_at': 'launched_date',
                                          'deadline': 'end_date'})
campaign_df.head()


# Convert the goal and pledged columns to a `float` data type.
campaign_df['goal'] = campaign_df['goal'].astype(int)
campaign_df['pledged'] = campaign_df['pledged'].astype(float)
campaign_df


# Check the datatypes
campaign_df.info()


# Format the launched_date and end_date columns to datetime format
from datetime import datetime as dt
campaign_df['launched_date'] = campaign_df['launched_date'].astype('datetime64[ns]')
campaign_df['end_date'] = campaign_df['end_date'].astype('datetime64[ns]')
campaign_df


# Merge the campaign_df with the category_df on the "category" column and 
# the subcategory_df on the "subcategory" column.
merged_df = pd.merge(campaign_df, category_df_1, how='left', on='category')
merged_df = pd.merge(merged_df, subcategory_df_1, how='left', on='subcategory')
merged_df



# Drop unwanted columns
merged_df = merged_df.drop(columns=['staff_pick', 'spotlight', 'category & sub-category', 'category', 'subcategory'])
campaign_cleaned = merged_df
campaign_cleaned


# Export the DataFrame as a CSV file. 
campaign_cleaned.to_csv("Resources/campaign.csv", index=False)





# Read the data into a Pandas DataFrame. Use the `header=2` parameter when reading in the data.
contact_info_df = pd.read_excel('Resources/contacts.xlsx', header=2)
contact_info_df.head()








# Iterate through the contact_info_df and convert each row to a dictionary.
import json
dict_values = []

for i  in contact_info_df.iterrows():
    dict_values.append(i[1][0])

del dict_values[0]

dict_list = [json.loads(s) for s in dict_values]

# Print out the list of values for each row.
print(dict_list)


# Create a contact_info DataFrame and add each list of values, i.e., each row 
# to the 'contact_id', 'name', 'email' columns.
contact_id = pd.DataFrame(dict_list)
contact_id


# Check the datatypes.
contact_id.info()


# Create a "first"name" and "last_name" column with the first and last names from the "name" column. 
contact_id[['first_name', 'last_name']] = contact_id['name'].str.split(' ', expand=True)

# Drop the contact_name column
contact_id = contact_id.drop(columns=['name'])
contact_id



# Reorder the columns
contacts_df_clean = contact_id[['contact_id', 'first_name', 'last_name', 'email']]
contacts_df_clean


# Check the datatypes one more time before exporting as CSV file.
contacts_df_clean.info()


# Export the DataFrame as a CSV file. 
contacts_df_clean.to_csv("Resources/contacts.csv", encoding='utf8', index=False)








# Extract the four-digit contact ID number.



# Check the datatypes.



# Convert the "contact_id" column to an int64 data type.



# Extract the name of the contact and add it to a new column.



# Extract the email from the contacts and add the values to a new column.



# Create a copy of the contact_info_df with the 'contact_id', 'name', 'email' columns.



# Create a "first"name" and "last_name" column with the first and last names from the "name" column. 


# Drop the contact_name column



# Reorder the columns



# Check the datatypes one more time before exporting as CSV file.



# Export the DataFrame as a CSV file. 
# contacts_df_clean.to_csv("Resources/contacts.csv", encoding='utf8', index=False)



